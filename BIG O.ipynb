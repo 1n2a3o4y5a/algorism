{
 "cells": [
  {
   "cell_type": "code",
   "execution_count": 31,
   "metadata": {},
   "outputs": [],
   "source": [
    "#O(n)\n",
    "\n",
    "def func1(n):\n",
    "    for i in range(n):\n",
    "        print(i)\n",
    "        \n",
    "func1(10)"
   ]
  },
  {
   "cell_type": "code",
   "execution_count": 36,
   "metadata": {},
   "outputs": [],
   "source": [
    "#O( n^2 )\n",
    "\n",
    "def func2(n):\n",
    "    for i in range(n):\n",
    "        for j in range(n):\n",
    "            print(i * j)\n",
    "        print()\n",
    "    \n",
    "func2(10)"
   ]
  },
  {
   "cell_type": "code",
   "execution_count": 32,
   "metadata": {},
   "outputs": [],
   "source": [
    "#O( log n )\n",
    "\n",
    "def func3(n):        \n",
    "    if n <= 1:\n",
    "        return\n",
    "    \n",
    "    print(n)\n",
    "    func3(n / 2)\n",
    "\n",
    "func3(10)\n"
   ]
  },
  {
   "cell_type": "code",
   "execution_count": 33,
   "metadata": {},
   "outputs": [],
   "source": [
    "#O(n * log n)\n",
    "\n",
    "def func4(n):\n",
    "    for i in range(int(n)):\n",
    "        print(i, end=\" \")\n",
    "    print()\n",
    "    \n",
    "    if n <= 1:\n",
    "        return\n",
    "        \n",
    "    func4(n / 2)\n",
    "    \n",
    "    \n",
    "func4(10)"
   ]
  },
  {
   "cell_type": "code",
   "execution_count": null,
   "metadata": {},
   "outputs": [],
   "source": []
  }
 ],
 "metadata": {
  "kernelspec": {
   "display_name": "Python 3",
   "language": "python",
   "name": "python3"
  },
  "language_info": {
   "codemirror_mode": {
    "name": "ipython",
    "version": 3
   },
   "file_extension": ".py",
   "mimetype": "text/x-python",
   "name": "python",
   "nbconvert_exporter": "python",
   "pygments_lexer": "ipython3",
   "version": "3.7.6"
  }
 },
 "nbformat": 4,
 "nbformat_minor": 4
}

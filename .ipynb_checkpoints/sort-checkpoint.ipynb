{
 "cells": [
  {
   "cell_type": "code",
   "execution_count": 8,
   "metadata": {},
   "outputs": [
    {
     "name": "stdout",
     "output_type": "stream",
     "text": [
      "[(1, 'a'), (2, 'c'), (2, 'b'), (4, 'd'), (5, 'e')]\n",
      "[(1, 'a'), (2, 'b'), (2, 'c'), (4, 'd'), (5, 'e')]\n"
     ]
    }
   ],
   "source": [
    "# stable unstable sort\n",
    "\n",
    "l1 = [(1, \"a\"), (5, \"e\"), (2, \"c\"), (4, \"d\"), (2, \"b\")]\n",
    "l2 = [(1, \"a\"), (5, \"e\"), (2, \"c\"), (4, \"d\"), (2, \"b\")]\n",
    "\n",
    "# stable\n",
    "def func1(l): \n",
    "    l[1], l[2] = l[2], l[1]\n",
    "    l[2], l[4] = l[4], l[2]\n",
    "    print(l)\n",
    "  \n",
    "#unstable\n",
    "def func2(l):\n",
    "    l[1], l[4] = l[4], l[1]\n",
    "    print(l)\n",
    "    \n",
    "func1(l1)\n",
    "func2(l2)"
   ]
  },
  {
   "cell_type": "code",
   "execution_count": 19,
   "metadata": {},
   "outputs": [
    {
     "data": {
      "text/plain": [
       "[1, 2, 3, 5, 7, 8]"
      ]
     },
     "execution_count": 19,
     "metadata": {},
     "output_type": "execute_result"
    }
   ],
   "source": [
    "# buble sort O(n^2)\n",
    "\n",
    "li_buble = [2, 5, 1, 8, 7, 3]\n",
    "\n",
    "\n",
    "def buble(numbers: li):\n",
    "    len_numbers = len(numbers)\n",
    "    \n",
    "    for i in range(len_numbers):\n",
    "        for j in range(len_numbers - 1 - i):\n",
    "            if numbers[j] > numbers[j + 1]:\n",
    "                numbers[j], numbers[j + 1] = numbers[j + 1], numbers[j]\n",
    "                \n",
    "    return numbers\n",
    "\n",
    "buble(li_buble)"
   ]
  },
  {
   "cell_type": "code",
   "execution_count": 22,
   "metadata": {},
   "outputs": [
    {
     "name": "stdout",
     "output_type": "stream",
     "text": [
      "[1, 2, 3, 5, 7, 8]\n"
     ]
    }
   ],
   "source": [
    "# selection sort O(n^2)\n",
    "\n",
    "\n",
    "li_selection = [2, 5, 1, 8, 7, 3]\n",
    "def selection(numbers: li):\n",
    "    len_numbers = len(numbers)\n",
    "    \n",
    "    for i in range(len_numbers):\n",
    "        mini_index = i\n",
    "        for j in range(i + 1, len_numbers):\n",
    "            if numbers[j] < numbers[mini_index]:\n",
    "                mini_index = j\n",
    "        numbers[i], numbers[mini_index] = numbers[mini_index], numbers[i]\n",
    "        \n",
    "    print(numbers)\n",
    "    \n",
    "selection(li_selection)"
   ]
  },
  {
   "cell_type": "code",
   "execution_count": 31,
   "metadata": {},
   "outputs": [
    {
     "name": "stdout",
     "output_type": "stream",
     "text": [
      "[1, 2, 3, 5, 7, 8]\n"
     ]
    }
   ],
   "source": [
    "# insertion sort\n",
    "\n",
    "\n",
    "li_insertion = [2, 5, 1, 8, 7, 3]\n",
    "def insertion(numbers: li):\n",
    "    len_numbers = len(numbers)\n",
    "    \n",
    "    for i in range(1, len_numbers):\n",
    "        temp = numbers[i]\n",
    "        j = i - 1\n",
    "        while j >= 0 and numbers[j] >= temp:\n",
    "            numbers[j + 1] = numbers[j]\n",
    "            j -= 1\n",
    "        numbers[j + 1] = temp\n",
    "    print(numbers)\n",
    "        \n",
    "insertion(li_insertion)"
   ]
  },
  {
   "cell_type": "code",
   "execution_count": 35,
   "metadata": {},
   "outputs": [
    {
     "name": "stdout",
     "output_type": "stream",
     "text": [
      "[1, 2, 3, 5, 7, 8]\n"
     ]
    }
   ],
   "source": [
    "# quick sort O(n log n)\n",
    "\n",
    "li_quick = [2, 5, 1, 8, 7, 3]\n",
    "\n",
    "def partition(numbers,  low, high):\n",
    "    i = low -1\n",
    "    pivot = numbers[high]\n",
    "    for j in range(low, high):\n",
    "        if numbers[j] <= pivot:\n",
    "            i += 1\n",
    "            numbers[i], numbers[j] = numbers[j], numbers[i]\n",
    "            \n",
    "    numbers[i + 1], numbers[high] = numbers[high], numbers[i + 1]\n",
    "    return i + 1\n",
    "\n",
    "def quick(numbers):\n",
    "    def inner_quick(numbers, low, high):\n",
    "        if low < high:\n",
    "            partition_index = partition(numbers, low, high)\n",
    "            inner_quick(numbers, low, partition_index - 1)\n",
    "            inner_quick(numbers, partition_index + 1, high)\n",
    "            \n",
    "    inner_quick(numbers, 0, len(numbers) - 1)\n",
    "    print(numbers)\n",
    "    \n",
    "quick(li_quick)\n",
    "    "
   ]
  },
  {
   "cell_type": "code",
   "execution_count": null,
   "metadata": {},
   "outputs": [],
   "source": [
    "# merge sort  O(n log n)\n",
    "\n",
    "\n",
    "li_merge = [2, 5, 1, 8, 7, 3]\n",
    "\n",
    "def merge(numbers):\n",
    "    if numbers <= 1:\n",
    "        return numbers\n",
    "    \n",
    "    center = len(numbers) // 2\n",
    "    left = numbers[:center]\n",
    "    right = numbers[center:]\n",
    "    \n",
    "    merge(left)\n",
    "    merge(right)\n",
    "    \n",
    "    i = j = k = 0\n",
    "    while i < len(left) and j < = len(right):\n",
    "        if left[i] <= right[j] :\n",
    "            numbers[k] = left[i]\n",
    "            i += 1\n",
    "        else:\n",
    "            numbers[k]\n",
    "    "
   ]
  }
 ],
 "metadata": {
  "kernelspec": {
   "display_name": "Python 3",
   "language": "python",
   "name": "python3"
  },
  "language_info": {
   "codemirror_mode": {
    "name": "ipython",
    "version": 3
   },
   "file_extension": ".py",
   "mimetype": "text/x-python",
   "name": "python",
   "nbconvert_exporter": "python",
   "pygments_lexer": "ipython3",
   "version": "3.7.6"
  }
 },
 "nbformat": 4,
 "nbformat_minor": 4
}
